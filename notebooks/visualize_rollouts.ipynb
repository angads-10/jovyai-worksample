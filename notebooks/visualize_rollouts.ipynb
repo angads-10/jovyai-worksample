{
  "cells": [
    {
      "cell_type": "markdown",
      "metadata": {},
      "source": [
        "# Decision Transformer Rollout Visualization\n",
        "\n",
        "This notebook visualizes Decision Transformer rollouts and analyzes model performance on offline RL trajectories.\n",
        "\n",
        "**Author**: Jovy AI Research Team  \n",
        "**Purpose**: Model analysis and visualization for hospital decision-making\n"
      ]
    },
    {
      "cell_type": "code",
      "execution_count": null,
      "metadata": {},
      "outputs": [],
      "source": [
        "# Import required libraries\n",
        "import torch\n",
        "import numpy as np\n",
        "import matplotlib.pyplot as plt\n",
        "import seaborn as sns\n",
        "import pandas as pd\n",
        "from pathlib import Path\n",
        "import sys\n",
        "import warnings\n",
        "warnings.filterwarnings('ignore')\n",
        "\n",
        "# Add src to path\n",
        "sys.path.append('../src')\n",
        "\n",
        "# Import our modules\n",
        "from model import DecisionTransformer, DecisionTransformerConfig\n",
        "from dataset import TrajectoryDataset\n",
        "from eval import DecisionTransformerEvaluator\n",
        "\n",
        "# Set style\n",
        "plt.style.use('seaborn-v0_8')\n",
        "sns.set_palette(\"husl\")\n",
        "\n",
        "print(\"Libraries imported successfully!\")\n"
      ]
    }
  ],
  "metadata": {
    "language_info": {
      "name": "python"
    }
  },
  "nbformat": 4,
  "nbformat_minor": 2
}
